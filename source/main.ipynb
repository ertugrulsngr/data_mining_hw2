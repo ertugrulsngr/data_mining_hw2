{
 "cells": [
  {
   "cell_type": "code",
   "execution_count": 1,
   "metadata": {},
   "outputs": [],
   "source": [
    "import os\n",
    "import pandas as pd\n",
    "from time import time"
   ]
  },
  {
   "cell_type": "code",
   "execution_count": 2,
   "metadata": {},
   "outputs": [],
   "source": [
    "dataset_folder_name = \"DM_dataset_hw2\"\n",
    "dataset_file_name = \"fake_news_dataset.csv\""
   ]
  },
  {
   "cell_type": "code",
   "execution_count": 3,
   "metadata": {},
   "outputs": [],
   "source": [
    "ws_path = os.path.abspath(os.path.join(os.getcwd(), os.pardir))\n",
    "dataset_path = os.path.join(ws_path, dataset_folder_name, dataset_file_name)"
   ]
  },
  {
   "cell_type": "code",
   "execution_count": 4,
   "metadata": {},
   "outputs": [],
   "source": [
    "dataset = pd.read_csv(dataset_path)"
   ]
  },
  {
   "cell_type": "code",
   "execution_count": 5,
   "metadata": {},
   "outputs": [
    {
     "data": {
      "text/html": [
       "<div>\n",
       "<style scoped>\n",
       "    .dataframe tbody tr th:only-of-type {\n",
       "        vertical-align: middle;\n",
       "    }\n",
       "\n",
       "    .dataframe tbody tr th {\n",
       "        vertical-align: top;\n",
       "    }\n",
       "\n",
       "    .dataframe thead th {\n",
       "        text-align: right;\n",
       "    }\n",
       "</style>\n",
       "<table border=\"1\" class=\"dataframe\">\n",
       "  <thead>\n",
       "    <tr style=\"text-align: right;\">\n",
       "      <th></th>\n",
       "      <th>target</th>\n",
       "      <th>tweet</th>\n",
       "      <th>score</th>\n",
       "    </tr>\n",
       "  </thead>\n",
       "  <tbody>\n",
       "    <tr>\n",
       "      <th>0</th>\n",
       "      <td>True</td>\n",
       "      <td>@POTUS Biden Blunders - 6 Month Update\\n\\nInfl...</td>\n",
       "      <td>5</td>\n",
       "    </tr>\n",
       "    <tr>\n",
       "      <th>1</th>\n",
       "      <td>True</td>\n",
       "      <td>@S0SickRick @Stairmaster_ @6d6f636869 Not as m...</td>\n",
       "      <td>3</td>\n",
       "    </tr>\n",
       "    <tr>\n",
       "      <th>2</th>\n",
       "      <td>True</td>\n",
       "      <td>THE SUPREME COURT is siding with super rich pr...</td>\n",
       "      <td>4</td>\n",
       "    </tr>\n",
       "    <tr>\n",
       "      <th>3</th>\n",
       "      <td>True</td>\n",
       "      <td>@POTUS Biden Blunders\\n\\nBroken campaign promi...</td>\n",
       "      <td>5</td>\n",
       "    </tr>\n",
       "    <tr>\n",
       "      <th>4</th>\n",
       "      <td>True</td>\n",
       "      <td>@OhComfy I agree. The confluence of events rig...</td>\n",
       "      <td>4</td>\n",
       "    </tr>\n",
       "    <tr>\n",
       "      <th>...</th>\n",
       "      <td>...</td>\n",
       "      <td>...</td>\n",
       "      <td>...</td>\n",
       "    </tr>\n",
       "    <tr>\n",
       "      <th>134193</th>\n",
       "      <td>False</td>\n",
       "      <td>Joe Biden's family owned African slaves....\\n\\...</td>\n",
       "      <td>5</td>\n",
       "    </tr>\n",
       "    <tr>\n",
       "      <th>134194</th>\n",
       "      <td>False</td>\n",
       "      <td>Joe Bidens great, great grandfather was a slav...</td>\n",
       "      <td>4</td>\n",
       "    </tr>\n",
       "    <tr>\n",
       "      <th>134195</th>\n",
       "      <td>False</td>\n",
       "      <td>@ChevyChaseToGo \"Joe Bidens great-grandfather ...</td>\n",
       "      <td>5</td>\n",
       "    </tr>\n",
       "    <tr>\n",
       "      <th>134196</th>\n",
       "      <td>False</td>\n",
       "      <td>@JoeBiden Facts are Bidens VP Kamala Harris Gr...</td>\n",
       "      <td>3</td>\n",
       "    </tr>\n",
       "    <tr>\n",
       "      <th>134197</th>\n",
       "      <td>False</td>\n",
       "      <td>@sunny Yes representation matters. Did you kno...</td>\n",
       "      <td>4</td>\n",
       "    </tr>\n",
       "  </tbody>\n",
       "</table>\n",
       "<p>134198 rows × 3 columns</p>\n",
       "</div>"
      ],
      "text/plain": [
       "        target                                              tweet  score\n",
       "0         True  @POTUS Biden Blunders - 6 Month Update\\n\\nInfl...      5\n",
       "1         True  @S0SickRick @Stairmaster_ @6d6f636869 Not as m...      3\n",
       "2         True  THE SUPREME COURT is siding with super rich pr...      4\n",
       "3         True  @POTUS Biden Blunders\\n\\nBroken campaign promi...      5\n",
       "4         True  @OhComfy I agree. The confluence of events rig...      4\n",
       "...        ...                                                ...    ...\n",
       "134193   False  Joe Biden's family owned African slaves....\\n\\...      5\n",
       "134194   False  Joe Bidens great, great grandfather was a slav...      4\n",
       "134195   False  @ChevyChaseToGo \"Joe Bidens great-grandfather ...      5\n",
       "134196   False  @JoeBiden Facts are Bidens VP Kamala Harris Gr...      3\n",
       "134197   False  @sunny Yes representation matters. Did you kno...      4\n",
       "\n",
       "[134198 rows x 3 columns]"
      ]
     },
     "execution_count": 5,
     "metadata": {},
     "output_type": "execute_result"
    }
   ],
   "source": [
    "# Null check\n",
    "dataset"
   ]
  },
  {
   "cell_type": "code",
   "execution_count": 19,
   "metadata": {},
   "outputs": [],
   "source": [
    "from sklearn.feature_extraction.text import TfidfVectorizer\n",
    "from sklearn.neighbors import KNeighborsClassifier\n",
    "from sklearn.model_selection import train_test_split\n",
    "from sklearn.metrics import classification_report\n",
    "from sklearn.tree import DecisionTreeClassifier\n",
    "from sklearn.naive_bayes import MultinomialNB\n",
    "from sklearn.decomposition import TruncatedSVD\n",
    "from sklearn.neighbors import KNeighborsRegressor\n",
    "from sklearn.metrics import mean_absolute_error\n",
    "from sklearn.metrics import mean_squared_error\n",
    "from sklearn.linear_model import LinearRegression\n",
    "from sklearn.tree import DecisionTreeRegressor"
   ]
  },
  {
   "cell_type": "code",
   "execution_count": 7,
   "metadata": {},
   "outputs": [],
   "source": [
    "def display_scores(model, X_train, X_test, y_train, y_test):\n",
    "    train_start = time()\n",
    "    model.fit(X_train, y_train)\n",
    "    print(\"Train time: \", time() - train_start)\n",
    "    test_start = time()\n",
    "    prediction = model.predict(X_test)\n",
    "    print(\"Test time: \", time() - test_start)\n",
    "    print(classification_report(prediction, y_test))"
   ]
  },
  {
   "cell_type": "code",
   "execution_count": 15,
   "metadata": {},
   "outputs": [],
   "source": [
    "def display_regression_scores(model, X_train, X_test, y_train, y_test):\n",
    "    train_start = time()\n",
    "    model.fit(X_train, y_train)\n",
    "    print(\"Train time: \", time() - train_start)\n",
    "    test_start = time()\n",
    "    prediction = model.predict(X_test)\n",
    "    print(\"Test time: \", time() - test_start)\n",
    "    mae = mean_absolute_error(y_test, prediction)\n",
    "    rmse = mean_squared_error(y_test, prediction, squared=False)\n",
    "    print(\"MAE: \", mae, \"RMSE: \", rmse)"
   ]
  },
  {
   "cell_type": "markdown",
   "metadata": {},
   "source": [
    "# TF-IDF Only"
   ]
  },
  {
   "cell_type": "code",
   "execution_count": 9,
   "metadata": {},
   "outputs": [],
   "source": [
    "vectorizer = TfidfVectorizer(stop_words=\"english\")\n",
    "X = vectorizer.fit_transform(dataset[\"tweet\"])\n",
    "X_train, X_test, y_train, y_test = train_test_split(X, dataset[\"target\"], test_size=0.2, random_state=42)"
   ]
  },
  {
   "cell_type": "code",
   "execution_count": 10,
   "metadata": {},
   "outputs": [
    {
     "data": {
      "text/plain": [
       "<134198x169270 sparse matrix of type '<class 'numpy.float64'>'\n",
       "\twith 2504114 stored elements in Compressed Sparse Row format>"
      ]
     },
     "execution_count": 10,
     "metadata": {},
     "output_type": "execute_result"
    }
   ],
   "source": [
    "X"
   ]
  },
  {
   "cell_type": "code",
   "execution_count": 23,
   "metadata": {},
   "outputs": [
    {
     "name": "stdout",
     "output_type": "stream",
     "text": [
      "Train time:  0.03248858451843262\n",
      "Test time:  79.83325672149658\n",
      "              precision    recall  f1-score   support\n",
      "\n",
      "       False       0.95      0.99      0.97     12543\n",
      "        True       0.99      0.95      0.97     14297\n",
      "\n",
      "    accuracy                           0.97     26840\n",
      "   macro avg       0.97      0.97      0.97     26840\n",
      "weighted avg       0.97      0.97      0.97     26840\n",
      "\n"
     ]
    }
   ],
   "source": [
    "knn = KNeighborsClassifier(n_neighbors = 3)\n",
    "display_scores(knn, X_train, X_test, y_train, y_test)"
   ]
  },
  {
   "cell_type": "code",
   "execution_count": 16,
   "metadata": {},
   "outputs": [
    {
     "name": "stdout",
     "output_type": "stream",
     "text": [
      "Train time:  0.016558170318603516\n",
      "Test time:  97.08044815063477\n",
      "MAE:  0.14270988574267263 RMSE:  0.23763510289134437\n"
     ]
    }
   ],
   "source": [
    "knnR = KNeighborsRegressor(n_neighbors=3)\n",
    "display_regression_scores(knnR, X_train, X_test, y_train, y_test)"
   ]
  },
  {
   "cell_type": "code",
   "execution_count": 24,
   "metadata": {},
   "outputs": [
    {
     "name": "stdout",
     "output_type": "stream",
     "text": [
      "Train time:  76.22720861434937\n",
      "Test time:  0.032271623611450195\n",
      "              precision    recall  f1-score   support\n",
      "\n",
      "       False       0.98      0.98      0.98     13079\n",
      "        True       0.98      0.98      0.98     13761\n",
      "\n",
      "    accuracy                           0.98     26840\n",
      "   macro avg       0.98      0.98      0.98     26840\n",
      "weighted avg       0.98      0.98      0.98     26840\n",
      "\n"
     ]
    }
   ],
   "source": [
    "dc = DecisionTreeClassifier()\n",
    "display_scores(dc, X_train, X_test, y_train, y_test)"
   ]
  },
  {
   "cell_type": "code",
   "execution_count": 17,
   "metadata": {},
   "outputs": [
    {
     "name": "stdout",
     "output_type": "stream",
     "text": [
      "Train time:  115.1116418838501\n",
      "Test time:  0.02310466766357422\n",
      "MAE:  0.019485842026825632 RMSE:  0.13959169755693077\n"
     ]
    }
   ],
   "source": [
    "dcR = DecisionTreeRegressor()\n",
    "display_regression_scores(dcR, X_train, X_test, y_train, y_test)"
   ]
  },
  {
   "cell_type": "code",
   "execution_count": 63,
   "metadata": {},
   "outputs": [
    {
     "name": "stdout",
     "output_type": "stream",
     "text": [
      "Train time:  0.06399273872375488\n",
      "Test time:  0.012064933776855469\n",
      "              precision    recall  f1-score   support\n",
      "\n",
      "       False       0.93      0.96      0.95     12728\n",
      "        True       0.96      0.94      0.95     14112\n",
      "\n",
      "    accuracy                           0.95     26840\n",
      "   macro avg       0.95      0.95      0.95     26840\n",
      "weighted avg       0.95      0.95      0.95     26840\n",
      "\n"
     ]
    }
   ],
   "source": [
    "nb = MultinomialNB()\n",
    "display_scores(nb, X_train, X_test, y_train, y_test)"
   ]
  },
  {
   "cell_type": "code",
   "execution_count": 20,
   "metadata": {},
   "outputs": [
    {
     "name": "stdout",
     "output_type": "stream",
     "text": [
      "Train time:  92.33088374137878\n",
      "Test time:  0.003396272659301758\n",
      "MAE:  0.2569401164122587 RMSE:  0.3718085277789252\n"
     ]
    }
   ],
   "source": [
    "nbR = LinearRegression()\n",
    "display_regression_scores(nbR, X_train, X_test, y_train, y_test)"
   ]
  },
  {
   "cell_type": "markdown",
   "metadata": {
    "jp-MarkdownHeadingCollapsed": true
   },
   "source": [
    "# TF-IDF + FS"
   ]
  },
  {
   "cell_type": "code",
   "execution_count": 21,
   "metadata": {},
   "outputs": [],
   "source": [
    "vectorizer = TfidfVectorizer(stop_words=\"english\", max_features=2000)\n",
    "X = vectorizer.fit_transform(dataset[\"tweet\"])\n",
    "X_train, X_test, y_train, y_test = train_test_split(X, dataset[\"target\"], test_size=0.2, random_state=42)"
   ]
  },
  {
   "cell_type": "code",
   "execution_count": 39,
   "metadata": {},
   "outputs": [
    {
     "data": {
      "text/plain": [
       "<134198x2000 sparse matrix of type '<class 'numpy.float64'>'\n",
       "\twith 1684751 stored elements in Compressed Sparse Row format>"
      ]
     },
     "execution_count": 39,
     "metadata": {},
     "output_type": "execute_result"
    }
   ],
   "source": [
    "X"
   ]
  },
  {
   "cell_type": "code",
   "execution_count": 27,
   "metadata": {},
   "outputs": [
    {
     "name": "stdout",
     "output_type": "stream",
     "text": [
      "Train time:  0.018564224243164062\n",
      "Test time:  86.1012933254242\n",
      "              precision    recall  f1-score   support\n",
      "\n",
      "       False       0.70      0.99      0.82      9178\n",
      "        True       1.00      0.78      0.87     17662\n",
      "\n",
      "    accuracy                           0.85     26840\n",
      "   macro avg       0.85      0.88      0.85     26840\n",
      "weighted avg       0.89      0.85      0.85     26840\n",
      "\n"
     ]
    }
   ],
   "source": [
    "knn = KNeighborsClassifier(n_neighbors = 3)\n",
    "display_scores(knn, X_train, X_test, y_train, y_test)"
   ]
  },
  {
   "cell_type": "code",
   "execution_count": 22,
   "metadata": {},
   "outputs": [
    {
     "name": "stdout",
     "output_type": "stream",
     "text": [
      "Train time:  0.02972698211669922\n",
      "Test time:  155.02567195892334\n",
      "MAE:  0.14654744162940886 RMSE:  0.36207438998740177\n"
     ]
    }
   ],
   "source": [
    "knnR = KNeighborsRegressor(n_neighbors=3)\n",
    "display_regression_scores(knnR, X_train, X_test, y_train, y_test)"
   ]
  },
  {
   "cell_type": "code",
   "execution_count": 28,
   "metadata": {},
   "outputs": [
    {
     "name": "stdout",
     "output_type": "stream",
     "text": [
      "Train time:  39.396164417266846\n",
      "Test time:  0.027048349380493164\n",
      "              precision    recall  f1-score   support\n",
      "\n",
      "       False       0.96      0.97      0.97     12991\n",
      "        True       0.97      0.97      0.97     13849\n",
      "\n",
      "    accuracy                           0.97     26840\n",
      "   macro avg       0.97      0.97      0.97     26840\n",
      "weighted avg       0.97      0.97      0.97     26840\n",
      "\n"
     ]
    }
   ],
   "source": [
    "dc = DecisionTreeClassifier()\n",
    "display_scores(dc, X_train, X_test, y_train, y_test)"
   ]
  },
  {
   "cell_type": "code",
   "execution_count": 23,
   "metadata": {},
   "outputs": [
    {
     "name": "stdout",
     "output_type": "stream",
     "text": [
      "Train time:  67.03870296478271\n",
      "Test time:  0.03938603401184082\n",
      "MAE:  0.03087800915669768 RMSE:  0.17519291556510336\n"
     ]
    }
   ],
   "source": [
    "dcR = DecisionTreeRegressor()\n",
    "display_regression_scores(dcR, X_train, X_test, y_train, y_test)"
   ]
  },
  {
   "cell_type": "code",
   "execution_count": 29,
   "metadata": {},
   "outputs": [
    {
     "name": "stdout",
     "output_type": "stream",
     "text": [
      "Train time:  0.035776615142822266\n",
      "Test time:  0.0049402713775634766\n",
      "              precision    recall  f1-score   support\n",
      "\n",
      "       False       0.92      0.95      0.93     12673\n",
      "        True       0.95      0.92      0.94     14167\n",
      "\n",
      "    accuracy                           0.94     26840\n",
      "   macro avg       0.93      0.94      0.94     26840\n",
      "weighted avg       0.94      0.94      0.94     26840\n",
      "\n"
     ]
    }
   ],
   "source": [
    "nb = MultinomialNB()\n",
    "display_scores(nb, X_train, X_test, y_train, y_test)"
   ]
  },
  {
   "cell_type": "code",
   "execution_count": 24,
   "metadata": {},
   "outputs": [
    {
     "name": "stdout",
     "output_type": "stream",
     "text": [
      "Train time:  1.2061469554901123\n",
      "Test time:  0.0016748905181884766\n",
      "MAE:  0.16350531272912402 RMSE:  0.21647101403660274\n"
     ]
    }
   ],
   "source": [
    "nbR = LinearRegression()\n",
    "display_regression_scores(nbR, X_train, X_test, y_train, y_test)"
   ]
  },
  {
   "cell_type": "markdown",
   "metadata": {
    "jp-MarkdownHeadingCollapsed": true
   },
   "source": [
    "# TF-IDF PCA"
   ]
  },
  {
   "cell_type": "code",
   "execution_count": 25,
   "metadata": {},
   "outputs": [],
   "source": [
    "vectorizer = TfidfVectorizer(stop_words=\"english\")\n",
    "X = vectorizer.fit_transform(dataset[\"tweet\"])\n",
    "svd = TruncatedSVD(n_components=1000, random_state=42)\n",
    "X = svd.fit_transform(X)"
   ]
  },
  {
   "cell_type": "code",
   "execution_count": 58,
   "metadata": {},
   "outputs": [
    {
     "data": {
      "text/plain": [
       "(134198, 1000)"
      ]
     },
     "execution_count": 58,
     "metadata": {},
     "output_type": "execute_result"
    }
   ],
   "source": [
    "X.shape"
   ]
  },
  {
   "cell_type": "code",
   "execution_count": 59,
   "metadata": {},
   "outputs": [
    {
     "name": "stdout",
     "output_type": "stream",
     "text": [
      "Train time:  0.04211544990539551\n",
      "Test time:  56.516252517700195\n",
      "              precision    recall  f1-score   support\n",
      "\n",
      "       False       0.70      0.99      0.82      9178\n",
      "        True       1.00      0.78      0.87     17662\n",
      "\n",
      "    accuracy                           0.85     26840\n",
      "   macro avg       0.85      0.88      0.85     26840\n",
      "weighted avg       0.89      0.85      0.85     26840\n",
      "\n"
     ]
    }
   ],
   "source": [
    "knn = KNeighborsClassifier(n_neighbors = 3)\n",
    "display_scores(knn, X_train, X_test, y_train, y_test)"
   ]
  },
  {
   "cell_type": "code",
   "execution_count": 26,
   "metadata": {},
   "outputs": [
    {
     "name": "stdout",
     "output_type": "stream",
     "text": [
      "Train time:  0.11029982566833496\n",
      "Test time:  85.5843997001648\n",
      "MAE:  0.14654744162940886 RMSE:  0.36207438998740177\n"
     ]
    }
   ],
   "source": [
    "knnR = KNeighborsRegressor(n_neighbors=3)\n",
    "display_regression_scores(knnR, X_train, X_test, y_train, y_test)"
   ]
  },
  {
   "cell_type": "code",
   "execution_count": 60,
   "metadata": {},
   "outputs": [
    {
     "name": "stdout",
     "output_type": "stream",
     "text": [
      "Train time:  37.894444942474365\n",
      "Test time:  0.02352142333984375\n",
      "              precision    recall  f1-score   support\n",
      "\n",
      "       False       0.96      0.97      0.97     12996\n",
      "        True       0.97      0.97      0.97     13844\n",
      "\n",
      "    accuracy                           0.97     26840\n",
      "   macro avg       0.97      0.97      0.97     26840\n",
      "weighted avg       0.97      0.97      0.97     26840\n",
      "\n"
     ]
    }
   ],
   "source": [
    "dc = DecisionTreeClassifier()\n",
    "display_scores(dc, X_train, X_test, y_train, y_test)"
   ]
  },
  {
   "cell_type": "code",
   "execution_count": 27,
   "metadata": {},
   "outputs": [
    {
     "name": "stdout",
     "output_type": "stream",
     "text": [
      "Train time:  52.03927493095398\n",
      "Test time:  0.02969217300415039\n",
      "MAE:  0.031214336542205397 RMSE:  0.17620764250037513\n"
     ]
    }
   ],
   "source": [
    "dcR = DecisionTreeRegressor()\n",
    "display_regression_scores(dcR, X_train, X_test, y_train, y_test)"
   ]
  },
  {
   "cell_type": "code",
   "execution_count": 61,
   "metadata": {},
   "outputs": [
    {
     "name": "stdout",
     "output_type": "stream",
     "text": [
      "Train time:  0.022018909454345703\n",
      "Test time:  0.0049817562103271484\n",
      "              precision    recall  f1-score   support\n",
      "\n",
      "       False       0.92      0.95      0.93     12673\n",
      "        True       0.95      0.92      0.94     14167\n",
      "\n",
      "    accuracy                           0.94     26840\n",
      "   macro avg       0.93      0.94      0.94     26840\n",
      "weighted avg       0.94      0.94      0.94     26840\n",
      "\n"
     ]
    }
   ],
   "source": [
    "nb = MultinomialNB()\n",
    "display_scores(nb, X_train, X_test, y_train, y_test)"
   ]
  },
  {
   "cell_type": "code",
   "execution_count": 28,
   "metadata": {},
   "outputs": [
    {
     "name": "stdout",
     "output_type": "stream",
     "text": [
      "Train time:  0.9429681301116943\n",
      "Test time:  0.0014371871948242188\n",
      "MAE:  0.16350531272912402 RMSE:  0.21647101403660274\n"
     ]
    }
   ],
   "source": [
    "nbR = LinearRegression()\n",
    "display_regression_scores(nbR, X_train, X_test, y_train, y_test)"
   ]
  },
  {
   "cell_type": "markdown",
   "metadata": {
    "jp-MarkdownHeadingCollapsed": true
   },
   "source": [
    "# N-Gram"
   ]
  },
  {
   "cell_type": "code",
   "execution_count": 29,
   "metadata": {},
   "outputs": [],
   "source": [
    "vectorizer = TfidfVectorizer(stop_words=\"english\", ngram_range=(1, 2))\n",
    "X = vectorizer.fit_transform(dataset[\"tweet\"])\n",
    "X_train, X_test, y_train, y_test = train_test_split(X, dataset[\"target\"], test_size=0.2, random_state=42)"
   ]
  },
  {
   "cell_type": "code",
   "execution_count": null,
   "metadata": {},
   "outputs": [
    {
     "data": {
      "text/plain": [
       "<134198x3265511 sparse matrix of type '<class 'numpy.float64'>'\n",
       "\twith 7422383 stored elements in Compressed Sparse Row format>"
      ]
     },
     "execution_count": 8,
     "metadata": {},
     "output_type": "execute_result"
    }
   ],
   "source": [
    "X"
   ]
  },
  {
   "cell_type": "code",
   "execution_count": null,
   "metadata": {},
   "outputs": [
    {
     "name": "stdout",
     "output_type": "stream",
     "text": [
      "Train time:  0.042620182037353516\n",
      "Test time:  80.97906064987183\n",
      "              precision    recall  f1-score   support\n",
      "\n",
      "       False       0.93      0.99      0.96     12349\n",
      "        True       0.99      0.94      0.96     14491\n",
      "\n",
      "    accuracy                           0.96     26840\n",
      "   macro avg       0.96      0.96      0.96     26840\n",
      "weighted avg       0.96      0.96      0.96     26840\n",
      "\n"
     ]
    }
   ],
   "source": [
    "knn = KNeighborsClassifier(n_neighbors = 3)\n",
    "display_scores(knn, X_train, X_test, y_train, y_test)"
   ]
  },
  {
   "cell_type": "code",
   "execution_count": 30,
   "metadata": {},
   "outputs": [
    {
     "name": "stdout",
     "output_type": "stream",
     "text": [
      "Train time:  0.043862104415893555\n",
      "Test time:  90.23232293128967\n",
      "MAE:  0.1610655737704918 RMSE:  0.25398789857905973\n"
     ]
    }
   ],
   "source": [
    "knnR = KNeighborsRegressor(n_neighbors=3)\n",
    "display_regression_scores(knnR, X_train, X_test, y_train, y_test)"
   ]
  },
  {
   "cell_type": "code",
   "execution_count": null,
   "metadata": {},
   "outputs": [
    {
     "name": "stdout",
     "output_type": "stream",
     "text": [
      "Train time:  1046.8513236045837\n",
      "Test time:  0.09778380393981934\n",
      "              precision    recall  f1-score   support\n",
      "\n",
      "       False       0.98      0.98      0.98     13055\n",
      "        True       0.98      0.98      0.98     13785\n",
      "\n",
      "    accuracy                           0.98     26840\n",
      "   macro avg       0.98      0.98      0.98     26840\n",
      "weighted avg       0.98      0.98      0.98     26840\n",
      "\n"
     ]
    }
   ],
   "source": [
    "dc = DecisionTreeClassifier()\n",
    "display_scores(dc, X_train, X_test, y_train, y_test)"
   ]
  },
  {
   "cell_type": "code",
   "execution_count": 31,
   "metadata": {},
   "outputs": [
    {
     "name": "stdout",
     "output_type": "stream",
     "text": [
      "Train time:  478.3501591682434\n",
      "Test time:  0.0937800407409668\n",
      "MAE:  0.018964232488822653 RMSE:  0.13771068400390238\n"
     ]
    }
   ],
   "source": [
    "dcR = DecisionTreeRegressor()\n",
    "display_regression_scores(dcR, X_train, X_test, y_train, y_test)"
   ]
  },
  {
   "cell_type": "code",
   "execution_count": null,
   "metadata": {},
   "outputs": [
    {
     "name": "stdout",
     "output_type": "stream",
     "text": [
      "Train time:  0.40999269485473633\n",
      "Test time:  0.07758069038391113\n",
      "              precision    recall  f1-score   support\n",
      "\n",
      "       False       0.96      0.98      0.97     12788\n",
      "        True       0.99      0.97      0.98     14052\n",
      "\n",
      "    accuracy                           0.97     26840\n",
      "   macro avg       0.97      0.97      0.97     26840\n",
      "weighted avg       0.97      0.97      0.97     26840\n",
      "\n"
     ]
    }
   ],
   "source": [
    "nb = MultinomialNB()\n",
    "display_scores(nb, X_train, X_test, y_train, y_test)"
   ]
  },
  {
   "cell_type": "code",
   "execution_count": 32,
   "metadata": {},
   "outputs": [
    {
     "name": "stdout",
     "output_type": "stream",
     "text": [
      "Train time:  239.56717801094055\n",
      "Test time:  0.006571054458618164\n",
      "MAE:  0.14034388413244994 RMSE:  0.18852741434996928\n"
     ]
    }
   ],
   "source": [
    "nbR = LinearRegression()\n",
    "display_regression_scores(nbR, X_train, X_test, y_train, y_test)"
   ]
  },
  {
   "cell_type": "markdown",
   "metadata": {
    "jp-MarkdownHeadingCollapsed": true
   },
   "source": [
    "# N-Gram FS"
   ]
  },
  {
   "cell_type": "code",
   "execution_count": 33,
   "metadata": {},
   "outputs": [],
   "source": [
    "vectorizer = TfidfVectorizer(stop_words=\"english\", ngram_range=(1, 2), max_features=2000)\n",
    "X = vectorizer.fit_transform(dataset[\"tweet\"])\n",
    "X_train, X_test, y_train, y_test = train_test_split(X, dataset[\"target\"], test_size=0.2, random_state=42)"
   ]
  },
  {
   "cell_type": "code",
   "execution_count": null,
   "metadata": {},
   "outputs": [
    {
     "data": {
      "text/plain": [
       "<134198x2000 sparse matrix of type '<class 'numpy.float64'>'\n",
       "\twith 1770041 stored elements in Compressed Sparse Row format>"
      ]
     },
     "execution_count": 16,
     "metadata": {},
     "output_type": "execute_result"
    }
   ],
   "source": [
    "X"
   ]
  },
  {
   "cell_type": "code",
   "execution_count": null,
   "metadata": {},
   "outputs": [
    {
     "name": "stdout",
     "output_type": "stream",
     "text": [
      "Train time:  0.02704167366027832\n",
      "Test time:  66.8125422000885\n",
      "              precision    recall  f1-score   support\n",
      "\n",
      "       False       0.76      0.99      0.86     10059\n",
      "        True       0.99      0.82      0.90     16781\n",
      "\n",
      "    accuracy                           0.88     26840\n",
      "   macro avg       0.88      0.90      0.88     26840\n",
      "weighted avg       0.91      0.88      0.88     26840\n",
      "\n"
     ]
    }
   ],
   "source": [
    "knn = KNeighborsClassifier(n_neighbors = 3)\n",
    "display_scores(knn, X_train, X_test, y_train, y_test)"
   ]
  },
  {
   "cell_type": "code",
   "execution_count": 34,
   "metadata": {},
   "outputs": [
    {
     "name": "stdout",
     "output_type": "stream",
     "text": [
      "Train time:  0.007241010665893555\n",
      "Test time:  84.15569376945496\n",
      "MAE:  0.11346249379036263 RMSE:  0.25705801095638664\n"
     ]
    }
   ],
   "source": [
    "knnR = KNeighborsRegressor(n_neighbors=3)\n",
    "display_regression_scores(knnR, X_train, X_test, y_train, y_test)"
   ]
  },
  {
   "cell_type": "code",
   "execution_count": null,
   "metadata": {},
   "outputs": [
    {
     "name": "stdout",
     "output_type": "stream",
     "text": [
      "Train time:  44.02996802330017\n",
      "Test time:  0.04000425338745117\n",
      "              precision    recall  f1-score   support\n",
      "\n",
      "       False       0.96      0.97      0.97     13015\n",
      "        True       0.97      0.97      0.97     13825\n",
      "\n",
      "    accuracy                           0.97     26840\n",
      "   macro avg       0.97      0.97      0.97     26840\n",
      "weighted avg       0.97      0.97      0.97     26840\n",
      "\n"
     ]
    }
   ],
   "source": [
    "dc = DecisionTreeClassifier()\n",
    "display_scores(dc, X_train, X_test, y_train, y_test)"
   ]
  },
  {
   "cell_type": "code",
   "execution_count": 35,
   "metadata": {},
   "outputs": [
    {
     "name": "stdout",
     "output_type": "stream",
     "text": [
      "Train time:  72.89871954917908\n",
      "Test time:  0.08632493019104004\n",
      "MAE:  0.03264059586712344 RMSE:  0.18012726730285405\n"
     ]
    }
   ],
   "source": [
    "dcR = DecisionTreeRegressor()\n",
    "display_regression_scores(dcR, X_train, X_test, y_train, y_test)"
   ]
  },
  {
   "cell_type": "code",
   "execution_count": null,
   "metadata": {},
   "outputs": [
    {
     "name": "stdout",
     "output_type": "stream",
     "text": [
      "Train time:  0.03705430030822754\n",
      "Test time:  0.002951383590698242\n",
      "              precision    recall  f1-score   support\n",
      "\n",
      "       False       0.93      0.95      0.94     12735\n",
      "        True       0.95      0.93      0.94     14105\n",
      "\n",
      "    accuracy                           0.94     26840\n",
      "   macro avg       0.94      0.94      0.94     26840\n",
      "weighted avg       0.94      0.94      0.94     26840\n",
      "\n"
     ]
    }
   ],
   "source": [
    "nb = MultinomialNB()\n",
    "display_scores(nb, X_train, X_test, y_train, y_test)"
   ]
  },
  {
   "cell_type": "code",
   "execution_count": 36,
   "metadata": {},
   "outputs": [
    {
     "name": "stdout",
     "output_type": "stream",
     "text": [
      "Train time:  4.1034369468688965\n",
      "Test time:  0.0016241073608398438\n",
      "MAE:  0.15610730194561637 RMSE:  0.21010360115666923\n"
     ]
    }
   ],
   "source": [
    "nbR = LinearRegression()\n",
    "display_regression_scores(nbR, X_train, X_test, y_train, y_test)"
   ]
  },
  {
   "cell_type": "markdown",
   "metadata": {},
   "source": [
    "# N-Gram PCA"
   ]
  },
  {
   "cell_type": "code",
   "execution_count": 37,
   "metadata": {},
   "outputs": [],
   "source": [
    "vectorizer = TfidfVectorizer(stop_words=\"english\", ngram_range=(1, 2))\n",
    "X = vectorizer.fit_transform(dataset[\"tweet\"])\n",
    "svd = TruncatedSVD(n_components=1000, random_state=42)\n",
    "X = svd.fit_transform(X)"
   ]
  },
  {
   "cell_type": "code",
   "execution_count": null,
   "metadata": {},
   "outputs": [],
   "source": [
    "X"
   ]
  },
  {
   "cell_type": "code",
   "execution_count": null,
   "metadata": {},
   "outputs": [],
   "source": [
    "knn = KNeighborsClassifier(n_neighbors = 3)\n",
    "display_scores(knn, X_train, X_test, y_train, y_test)"
   ]
  },
  {
   "cell_type": "code",
   "execution_count": null,
   "metadata": {},
   "outputs": [],
   "source": [
    "knnR = KNeighborsRegressor(n_neighbors=3)\n",
    "display_regression_scores(knnR, X_train, X_test, y_train, y_test)"
   ]
  },
  {
   "cell_type": "code",
   "execution_count": null,
   "metadata": {},
   "outputs": [],
   "source": [
    "dc = DecisionTreeClassifier()\n",
    "display_scores(dc, X_train, X_test, y_train, y_test)"
   ]
  },
  {
   "cell_type": "code",
   "execution_count": null,
   "metadata": {},
   "outputs": [],
   "source": [
    "dcR = DecisionTreeRegressor()\n",
    "display_regression_scores(dcR, X_train, X_test, y_train, y_test)"
   ]
  },
  {
   "cell_type": "code",
   "execution_count": null,
   "metadata": {},
   "outputs": [],
   "source": [
    "nb = MultinomialNB()\n",
    "display_scores(nb, X_train, X_test, y_train, y_test)"
   ]
  },
  {
   "cell_type": "code",
   "execution_count": null,
   "metadata": {},
   "outputs": [],
   "source": [
    "nbR = LinearRegression()\n",
    "display_regression_scores(nbR, X_train, X_test, y_train, y_test)"
   ]
  },
  {
   "cell_type": "code",
   "execution_count": null,
   "metadata": {},
   "outputs": [],
   "source": []
  }
 ],
 "metadata": {
  "kernelspec": {
   "display_name": "Python 3 (ipykernel)",
   "language": "python",
   "name": "python3"
  },
  "language_info": {
   "codemirror_mode": {
    "name": "ipython",
    "version": 3
   },
   "file_extension": ".py",
   "mimetype": "text/x-python",
   "name": "python",
   "nbconvert_exporter": "python",
   "pygments_lexer": "ipython3",
   "version": "3.8.6rc1"
  }
 },
 "nbformat": 4,
 "nbformat_minor": 4
}
